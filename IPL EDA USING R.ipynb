{
 "cells": [
  {
   "cell_type": "code",
   "execution_count": 1,
   "id": "286bc4f7",
   "metadata": {},
   "outputs": [
    {
     "name": "stderr",
     "output_type": "stream",
     "text": [
      "Registered S3 methods overwritten by 'ggplot2':\n",
      "  method         from \n",
      "  [.quosures     rlang\n",
      "  c.quosures     rlang\n",
      "  print.quosures rlang\n",
      "Registered S3 method overwritten by 'rvest':\n",
      "  method            from\n",
      "  read_xml.response xml2\n",
      "-- Attaching packages --------------------------------------- tidyverse 1.2.1 --\n",
      "v ggplot2 3.1.1       v purrr   0.3.2  \n",
      "v tibble  2.1.1       v dplyr   0.8.0.1\n",
      "v tidyr   0.8.3       v stringr 1.4.0  \n",
      "v readr   1.3.1       v forcats 0.4.0  \n",
      "-- Conflicts ------------------------------------------ tidyverse_conflicts() --\n",
      "x dplyr::filter() masks stats::filter()\n",
      "x dplyr::lag()    masks stats::lag()\n"
     ]
    }
   ],
   "source": [
    "#load package\n",
    "library(tidyverse)\n",
    "\n",
    "# read the csv files\n",
    "# dataframe\n",
    "match <- read.csv(\"matches.csv\", stringsAsFactors = FALSE)\n",
    "deliveries <- read.csv(\"deliveries.csv\", stringsAsFactors = FALSE)\n",
    "\n",
    "#indicates whether strings in a data frame should be treated as\n",
    "# factor variables or as just plain strings.\n",
    "\n",
    "# The \"tidyverse\" collects some of the most versatile\n",
    "# R packages: ggplot2, dplyr, tidyr, readr, purrr, and tibble.\n",
    "# The packages work in harmony to clean, process, model and \n",
    "# visualize data."
   ]
  },
  {
   "cell_type": "code",
   "execution_count": 4,
   "id": "8358608e",
   "metadata": {
    "scrolled": false
   },
   "outputs": [
    {
     "data": {
      "text/html": [
       "<table>\n",
       "<thead><tr><th scope=col>match_id</th><th scope=col>inning</th><th scope=col>batting_team</th><th scope=col>bowling_team</th><th scope=col>over</th><th scope=col>ball</th><th scope=col>batsman</th><th scope=col>non_striker</th><th scope=col>bowler</th><th scope=col>is_super_over</th><th scope=col>...</th><th scope=col>bye_runs</th><th scope=col>legbye_runs</th><th scope=col>noball_runs</th><th scope=col>penalty_runs</th><th scope=col>batsman_runs</th><th scope=col>extra_runs</th><th scope=col>total_runs</th><th scope=col>player_dismissed</th><th scope=col>dismissal_kind</th><th scope=col>fielder</th></tr></thead>\n",
       "<tbody>\n",
       "\t<tr><td>1                          </td><td>1                          </td><td>Sunrisers Hyderabad        </td><td>Royal Challengers Bangalore</td><td>1                          </td><td>1                          </td><td>DA Warner                  </td><td>S Dhawan                   </td><td>TS Mills                   </td><td>0                          </td><td>...                        </td><td>0                          </td><td>0                          </td><td>0                          </td><td>0                          </td><td>0                          </td><td>0                          </td><td>0                          </td><td>                           </td><td>                           </td><td>                           </td></tr>\n",
       "\t<tr><td>1                          </td><td>1                          </td><td>Sunrisers Hyderabad        </td><td>Royal Challengers Bangalore</td><td>1                          </td><td>2                          </td><td>DA Warner                  </td><td>S Dhawan                   </td><td>TS Mills                   </td><td>0                          </td><td>...                        </td><td>0                          </td><td>0                          </td><td>0                          </td><td>0                          </td><td>0                          </td><td>0                          </td><td>0                          </td><td>                           </td><td>                           </td><td>                           </td></tr>\n",
       "\t<tr><td>1                          </td><td>1                          </td><td>Sunrisers Hyderabad        </td><td>Royal Challengers Bangalore</td><td>1                          </td><td>3                          </td><td>DA Warner                  </td><td>S Dhawan                   </td><td>TS Mills                   </td><td>0                          </td><td>...                        </td><td>0                          </td><td>0                          </td><td>0                          </td><td>0                          </td><td>4                          </td><td>0                          </td><td>4                          </td><td>                           </td><td>                           </td><td>                           </td></tr>\n",
       "\t<tr><td>1                          </td><td>1                          </td><td>Sunrisers Hyderabad        </td><td>Royal Challengers Bangalore</td><td>1                          </td><td>4                          </td><td>DA Warner                  </td><td>S Dhawan                   </td><td>TS Mills                   </td><td>0                          </td><td>...                        </td><td>0                          </td><td>0                          </td><td>0                          </td><td>0                          </td><td>0                          </td><td>0                          </td><td>0                          </td><td>                           </td><td>                           </td><td>                           </td></tr>\n",
       "\t<tr><td>1                          </td><td>1                          </td><td>Sunrisers Hyderabad        </td><td>Royal Challengers Bangalore</td><td>1                          </td><td>5                          </td><td>DA Warner                  </td><td>S Dhawan                   </td><td>TS Mills                   </td><td>0                          </td><td>...                        </td><td>0                          </td><td>0                          </td><td>0                          </td><td>0                          </td><td>0                          </td><td>2                          </td><td>2                          </td><td>                           </td><td>                           </td><td>                           </td></tr>\n",
       "\t<tr><td>1                          </td><td>1                          </td><td>Sunrisers Hyderabad        </td><td>Royal Challengers Bangalore</td><td>1                          </td><td>6                          </td><td>S Dhawan                   </td><td>DA Warner                  </td><td>TS Mills                   </td><td>0                          </td><td>...                        </td><td>0                          </td><td>0                          </td><td>0                          </td><td>0                          </td><td>0                          </td><td>0                          </td><td>0                          </td><td>                           </td><td>                           </td><td>                           </td></tr>\n",
       "</tbody>\n",
       "</table>\n"
      ],
      "text/latex": [
       "\\begin{tabular}{r|lllllllllllllllllllll}\n",
       " match\\_id & inning & batting\\_team & bowling\\_team & over & ball & batsman & non\\_striker & bowler & is\\_super\\_over & ... & bye\\_runs & legbye\\_runs & noball\\_runs & penalty\\_runs & batsman\\_runs & extra\\_runs & total\\_runs & player\\_dismissed & dismissal\\_kind & fielder\\\\\n",
       "\\hline\n",
       "\t 1                           & 1                           & Sunrisers Hyderabad         & Royal Challengers Bangalore & 1                           & 1                           & DA Warner                   & S Dhawan                    & TS Mills                    & 0                           & ...                         & 0                           & 0                           & 0                           & 0                           & 0                           & 0                           & 0                           &                             &                             &                            \\\\\n",
       "\t 1                           & 1                           & Sunrisers Hyderabad         & Royal Challengers Bangalore & 1                           & 2                           & DA Warner                   & S Dhawan                    & TS Mills                    & 0                           & ...                         & 0                           & 0                           & 0                           & 0                           & 0                           & 0                           & 0                           &                             &                             &                            \\\\\n",
       "\t 1                           & 1                           & Sunrisers Hyderabad         & Royal Challengers Bangalore & 1                           & 3                           & DA Warner                   & S Dhawan                    & TS Mills                    & 0                           & ...                         & 0                           & 0                           & 0                           & 0                           & 4                           & 0                           & 4                           &                             &                             &                            \\\\\n",
       "\t 1                           & 1                           & Sunrisers Hyderabad         & Royal Challengers Bangalore & 1                           & 4                           & DA Warner                   & S Dhawan                    & TS Mills                    & 0                           & ...                         & 0                           & 0                           & 0                           & 0                           & 0                           & 0                           & 0                           &                             &                             &                            \\\\\n",
       "\t 1                           & 1                           & Sunrisers Hyderabad         & Royal Challengers Bangalore & 1                           & 5                           & DA Warner                   & S Dhawan                    & TS Mills                    & 0                           & ...                         & 0                           & 0                           & 0                           & 0                           & 0                           & 2                           & 2                           &                             &                             &                            \\\\\n",
       "\t 1                           & 1                           & Sunrisers Hyderabad         & Royal Challengers Bangalore & 1                           & 6                           & S Dhawan                    & DA Warner                   & TS Mills                    & 0                           & ...                         & 0                           & 0                           & 0                           & 0                           & 0                           & 0                           & 0                           &                             &                             &                            \\\\\n",
       "\\end{tabular}\n"
      ],
      "text/markdown": [
       "\n",
       "| match_id | inning | batting_team | bowling_team | over | ball | batsman | non_striker | bowler | is_super_over | ... | bye_runs | legbye_runs | noball_runs | penalty_runs | batsman_runs | extra_runs | total_runs | player_dismissed | dismissal_kind | fielder |\n",
       "|---|---|---|---|---|---|---|---|---|---|---|---|---|---|---|---|---|---|---|---|---|\n",
       "| 1                           | 1                           | Sunrisers Hyderabad         | Royal Challengers Bangalore | 1                           | 1                           | DA Warner                   | S Dhawan                    | TS Mills                    | 0                           | ...                         | 0                           | 0                           | 0                           | 0                           | 0                           | 0                           | 0                           |                             |                             |                             |\n",
       "| 1                           | 1                           | Sunrisers Hyderabad         | Royal Challengers Bangalore | 1                           | 2                           | DA Warner                   | S Dhawan                    | TS Mills                    | 0                           | ...                         | 0                           | 0                           | 0                           | 0                           | 0                           | 0                           | 0                           |                             |                             |                             |\n",
       "| 1                           | 1                           | Sunrisers Hyderabad         | Royal Challengers Bangalore | 1                           | 3                           | DA Warner                   | S Dhawan                    | TS Mills                    | 0                           | ...                         | 0                           | 0                           | 0                           | 0                           | 4                           | 0                           | 4                           |                             |                             |                             |\n",
       "| 1                           | 1                           | Sunrisers Hyderabad         | Royal Challengers Bangalore | 1                           | 4                           | DA Warner                   | S Dhawan                    | TS Mills                    | 0                           | ...                         | 0                           | 0                           | 0                           | 0                           | 0                           | 0                           | 0                           |                             |                             |                             |\n",
       "| 1                           | 1                           | Sunrisers Hyderabad         | Royal Challengers Bangalore | 1                           | 5                           | DA Warner                   | S Dhawan                    | TS Mills                    | 0                           | ...                         | 0                           | 0                           | 0                           | 0                           | 0                           | 2                           | 2                           |                             |                             |                             |\n",
       "| 1                           | 1                           | Sunrisers Hyderabad         | Royal Challengers Bangalore | 1                           | 6                           | S Dhawan                    | DA Warner                   | TS Mills                    | 0                           | ...                         | 0                           | 0                           | 0                           | 0                           | 0                           | 0                           | 0                           |                             |                             |                             |\n",
       "\n"
      ],
      "text/plain": [
       "  match_id inning batting_team        bowling_team                over ball\n",
       "1 1        1      Sunrisers Hyderabad Royal Challengers Bangalore 1    1   \n",
       "2 1        1      Sunrisers Hyderabad Royal Challengers Bangalore 1    2   \n",
       "3 1        1      Sunrisers Hyderabad Royal Challengers Bangalore 1    3   \n",
       "4 1        1      Sunrisers Hyderabad Royal Challengers Bangalore 1    4   \n",
       "5 1        1      Sunrisers Hyderabad Royal Challengers Bangalore 1    5   \n",
       "6 1        1      Sunrisers Hyderabad Royal Challengers Bangalore 1    6   \n",
       "  batsman   non_striker bowler   is_super_over ... bye_runs legbye_runs\n",
       "1 DA Warner S Dhawan    TS Mills 0             ... 0        0          \n",
       "2 DA Warner S Dhawan    TS Mills 0             ... 0        0          \n",
       "3 DA Warner S Dhawan    TS Mills 0             ... 0        0          \n",
       "4 DA Warner S Dhawan    TS Mills 0             ... 0        0          \n",
       "5 DA Warner S Dhawan    TS Mills 0             ... 0        0          \n",
       "6 S Dhawan  DA Warner   TS Mills 0             ... 0        0          \n",
       "  noball_runs penalty_runs batsman_runs extra_runs total_runs player_dismissed\n",
       "1 0           0            0            0          0                          \n",
       "2 0           0            0            0          0                          \n",
       "3 0           0            4            0          4                          \n",
       "4 0           0            0            0          0                          \n",
       "5 0           0            0            2          2                          \n",
       "6 0           0            0            0          0                          \n",
       "  dismissal_kind fielder\n",
       "1                       \n",
       "2                       \n",
       "3                       \n",
       "4                       \n",
       "5                       \n",
       "6                       "
      ]
     },
     "metadata": {},
     "output_type": "display_data"
    }
   ],
   "source": [
    "head(deliveries)"
   ]
  },
  {
   "cell_type": "code",
   "execution_count": 5,
   "id": "15661af7",
   "metadata": {
    "scrolled": true
   },
   "outputs": [
    {
     "data": {
      "text/html": [
       "<table>\n",
       "<thead><tr><th scope=col>id</th><th scope=col>season</th><th scope=col>city</th><th scope=col>date</th><th scope=col>team1</th><th scope=col>team2</th><th scope=col>toss_winner</th><th scope=col>toss_decision</th><th scope=col>result</th><th scope=col>dl_applied</th><th scope=col>winner</th><th scope=col>win_by_runs</th><th scope=col>win_by_wickets</th><th scope=col>player_of_match</th><th scope=col>venue</th><th scope=col>umpire1</th><th scope=col>umpire2</th><th scope=col>umpire3</th></tr></thead>\n",
       "<tbody>\n",
       "\t<tr><td>1                                        </td><td>2017                                     </td><td>Hyderabad                                </td><td>2017-04-05                               </td><td>Sunrisers Hyderabad                      </td><td>Royal Challengers Bangalore              </td><td>Royal Challengers Bangalore              </td><td>field                                    </td><td>normal                                   </td><td>0                                        </td><td>Sunrisers Hyderabad                      </td><td>35                                       </td><td> 0                                       </td><td>Yuvraj Singh                             </td><td>Rajiv Gandhi International Stadium, Uppal</td><td>AY Dandekar                              </td><td>NJ Llong                                 </td><td>NA                                       </td></tr>\n",
       "\t<tr><td>2                                        </td><td>2017                                     </td><td>Pune                                     </td><td>2017-04-06                               </td><td>Mumbai Indians                           </td><td>Rising Pune Supergiant                   </td><td>Rising Pune Supergiant                   </td><td>field                                    </td><td>normal                                   </td><td>0                                        </td><td>Rising Pune Supergiant                   </td><td> 0                                       </td><td> 7                                       </td><td>SPD Smith                                </td><td>Maharashtra Cricket Association Stadium  </td><td>A Nand Kishore                           </td><td>S Ravi                                   </td><td>NA                                       </td></tr>\n",
       "\t<tr><td>3                                        </td><td>2017                                     </td><td>Rajkot                                   </td><td>2017-04-07                               </td><td>Gujarat Lions                            </td><td>Kolkata Knight Riders                    </td><td>Kolkata Knight Riders                    </td><td>field                                    </td><td>normal                                   </td><td>0                                        </td><td>Kolkata Knight Riders                    </td><td> 0                                       </td><td>10                                       </td><td>CA Lynn                                  </td><td>Saurashtra Cricket Association Stadium   </td><td>Nitin Menon                              </td><td>CK Nandan                                </td><td>NA                                       </td></tr>\n",
       "\t<tr><td>4                                        </td><td>2017                                     </td><td>Indore                                   </td><td>2017-04-08                               </td><td>Rising Pune Supergiant                   </td><td>Kings XI Punjab                          </td><td>Kings XI Punjab                          </td><td>field                                    </td><td>normal                                   </td><td>0                                        </td><td>Kings XI Punjab                          </td><td> 0                                       </td><td> 6                                       </td><td>GJ Maxwell                               </td><td>Holkar Cricket Stadium                   </td><td>AK Chaudhary                             </td><td>C Shamshuddin                            </td><td>NA                                       </td></tr>\n",
       "\t<tr><td>5                                        </td><td>2017                                     </td><td>Bangalore                                </td><td>2017-04-08                               </td><td>Royal Challengers Bangalore              </td><td>Delhi Daredevils                         </td><td>Royal Challengers Bangalore              </td><td>bat                                      </td><td>normal                                   </td><td>0                                        </td><td>Royal Challengers Bangalore              </td><td>15                                       </td><td> 0                                       </td><td>KM Jadhav                                </td><td>M Chinnaswamy Stadium                    </td><td>                                         </td><td>                                         </td><td>NA                                       </td></tr>\n",
       "\t<tr><td>6                                        </td><td>2017                                     </td><td>Hyderabad                                </td><td>2017-04-09                               </td><td>Gujarat Lions                            </td><td>Sunrisers Hyderabad                      </td><td>Sunrisers Hyderabad                      </td><td>field                                    </td><td>normal                                   </td><td>0                                        </td><td>Sunrisers Hyderabad                      </td><td> 0                                       </td><td> 9                                       </td><td>Rashid Khan                              </td><td>Rajiv Gandhi International Stadium, Uppal</td><td>A Deshmukh                               </td><td>NJ Llong                                 </td><td>NA                                       </td></tr>\n",
       "</tbody>\n",
       "</table>\n"
      ],
      "text/latex": [
       "\\begin{tabular}{r|llllllllllllllllll}\n",
       " id & season & city & date & team1 & team2 & toss\\_winner & toss\\_decision & result & dl\\_applied & winner & win\\_by\\_runs & win\\_by\\_wickets & player\\_of\\_match & venue & umpire1 & umpire2 & umpire3\\\\\n",
       "\\hline\n",
       "\t 1                                         & 2017                                      & Hyderabad                                 & 2017-04-05                                & Sunrisers Hyderabad                       & Royal Challengers Bangalore               & Royal Challengers Bangalore               & field                                     & normal                                    & 0                                         & Sunrisers Hyderabad                       & 35                                        &  0                                        & Yuvraj Singh                              & Rajiv Gandhi International Stadium, Uppal & AY Dandekar                               & NJ Llong                                  & NA                                       \\\\\n",
       "\t 2                                         & 2017                                      & Pune                                      & 2017-04-06                                & Mumbai Indians                            & Rising Pune Supergiant                    & Rising Pune Supergiant                    & field                                     & normal                                    & 0                                         & Rising Pune Supergiant                    &  0                                        &  7                                        & SPD Smith                                 & Maharashtra Cricket Association Stadium   & A Nand Kishore                            & S Ravi                                    & NA                                       \\\\\n",
       "\t 3                                         & 2017                                      & Rajkot                                    & 2017-04-07                                & Gujarat Lions                             & Kolkata Knight Riders                     & Kolkata Knight Riders                     & field                                     & normal                                    & 0                                         & Kolkata Knight Riders                     &  0                                        & 10                                        & CA Lynn                                   & Saurashtra Cricket Association Stadium    & Nitin Menon                               & CK Nandan                                 & NA                                       \\\\\n",
       "\t 4                                         & 2017                                      & Indore                                    & 2017-04-08                                & Rising Pune Supergiant                    & Kings XI Punjab                           & Kings XI Punjab                           & field                                     & normal                                    & 0                                         & Kings XI Punjab                           &  0                                        &  6                                        & GJ Maxwell                                & Holkar Cricket Stadium                    & AK Chaudhary                              & C Shamshuddin                             & NA                                       \\\\\n",
       "\t 5                                         & 2017                                      & Bangalore                                 & 2017-04-08                                & Royal Challengers Bangalore               & Delhi Daredevils                          & Royal Challengers Bangalore               & bat                                       & normal                                    & 0                                         & Royal Challengers Bangalore               & 15                                        &  0                                        & KM Jadhav                                 & M Chinnaswamy Stadium                     &                                           &                                           & NA                                       \\\\\n",
       "\t 6                                         & 2017                                      & Hyderabad                                 & 2017-04-09                                & Gujarat Lions                             & Sunrisers Hyderabad                       & Sunrisers Hyderabad                       & field                                     & normal                                    & 0                                         & Sunrisers Hyderabad                       &  0                                        &  9                                        & Rashid Khan                               & Rajiv Gandhi International Stadium, Uppal & A Deshmukh                                & NJ Llong                                  & NA                                       \\\\\n",
       "\\end{tabular}\n"
      ],
      "text/markdown": [
       "\n",
       "| id | season | city | date | team1 | team2 | toss_winner | toss_decision | result | dl_applied | winner | win_by_runs | win_by_wickets | player_of_match | venue | umpire1 | umpire2 | umpire3 |\n",
       "|---|---|---|---|---|---|---|---|---|---|---|---|---|---|---|---|---|---|\n",
       "| 1                                         | 2017                                      | Hyderabad                                 | 2017-04-05                                | Sunrisers Hyderabad                       | Royal Challengers Bangalore               | Royal Challengers Bangalore               | field                                     | normal                                    | 0                                         | Sunrisers Hyderabad                       | 35                                        |  0                                        | Yuvraj Singh                              | Rajiv Gandhi International Stadium, Uppal | AY Dandekar                               | NJ Llong                                  | NA                                        |\n",
       "| 2                                         | 2017                                      | Pune                                      | 2017-04-06                                | Mumbai Indians                            | Rising Pune Supergiant                    | Rising Pune Supergiant                    | field                                     | normal                                    | 0                                         | Rising Pune Supergiant                    |  0                                        |  7                                        | SPD Smith                                 | Maharashtra Cricket Association Stadium   | A Nand Kishore                            | S Ravi                                    | NA                                        |\n",
       "| 3                                         | 2017                                      | Rajkot                                    | 2017-04-07                                | Gujarat Lions                             | Kolkata Knight Riders                     | Kolkata Knight Riders                     | field                                     | normal                                    | 0                                         | Kolkata Knight Riders                     |  0                                        | 10                                        | CA Lynn                                   | Saurashtra Cricket Association Stadium    | Nitin Menon                               | CK Nandan                                 | NA                                        |\n",
       "| 4                                         | 2017                                      | Indore                                    | 2017-04-08                                | Rising Pune Supergiant                    | Kings XI Punjab                           | Kings XI Punjab                           | field                                     | normal                                    | 0                                         | Kings XI Punjab                           |  0                                        |  6                                        | GJ Maxwell                                | Holkar Cricket Stadium                    | AK Chaudhary                              | C Shamshuddin                             | NA                                        |\n",
       "| 5                                         | 2017                                      | Bangalore                                 | 2017-04-08                                | Royal Challengers Bangalore               | Delhi Daredevils                          | Royal Challengers Bangalore               | bat                                       | normal                                    | 0                                         | Royal Challengers Bangalore               | 15                                        |  0                                        | KM Jadhav                                 | M Chinnaswamy Stadium                     |                                           |                                           | NA                                        |\n",
       "| 6                                         | 2017                                      | Hyderabad                                 | 2017-04-09                                | Gujarat Lions                             | Sunrisers Hyderabad                       | Sunrisers Hyderabad                       | field                                     | normal                                    | 0                                         | Sunrisers Hyderabad                       |  0                                        |  9                                        | Rashid Khan                               | Rajiv Gandhi International Stadium, Uppal | A Deshmukh                                | NJ Llong                                  | NA                                        |\n",
       "\n"
      ],
      "text/plain": [
       "  id season city      date       team1                      \n",
       "1 1  2017   Hyderabad 2017-04-05 Sunrisers Hyderabad        \n",
       "2 2  2017   Pune      2017-04-06 Mumbai Indians             \n",
       "3 3  2017   Rajkot    2017-04-07 Gujarat Lions              \n",
       "4 4  2017   Indore    2017-04-08 Rising Pune Supergiant     \n",
       "5 5  2017   Bangalore 2017-04-08 Royal Challengers Bangalore\n",
       "6 6  2017   Hyderabad 2017-04-09 Gujarat Lions              \n",
       "  team2                       toss_winner                 toss_decision result\n",
       "1 Royal Challengers Bangalore Royal Challengers Bangalore field         normal\n",
       "2 Rising Pune Supergiant      Rising Pune Supergiant      field         normal\n",
       "3 Kolkata Knight Riders       Kolkata Knight Riders       field         normal\n",
       "4 Kings XI Punjab             Kings XI Punjab             field         normal\n",
       "5 Delhi Daredevils            Royal Challengers Bangalore bat           normal\n",
       "6 Sunrisers Hyderabad         Sunrisers Hyderabad         field         normal\n",
       "  dl_applied winner                      win_by_runs win_by_wickets\n",
       "1 0          Sunrisers Hyderabad         35           0            \n",
       "2 0          Rising Pune Supergiant       0           7            \n",
       "3 0          Kolkata Knight Riders        0          10            \n",
       "4 0          Kings XI Punjab              0           6            \n",
       "5 0          Royal Challengers Bangalore 15           0            \n",
       "6 0          Sunrisers Hyderabad          0           9            \n",
       "  player_of_match venue                                     umpire1       \n",
       "1 Yuvraj Singh    Rajiv Gandhi International Stadium, Uppal AY Dandekar   \n",
       "2 SPD Smith       Maharashtra Cricket Association Stadium   A Nand Kishore\n",
       "3 CA Lynn         Saurashtra Cricket Association Stadium    Nitin Menon   \n",
       "4 GJ Maxwell      Holkar Cricket Stadium                    AK Chaudhary  \n",
       "5 KM Jadhav       M Chinnaswamy Stadium                                   \n",
       "6 Rashid Khan     Rajiv Gandhi International Stadium, Uppal A Deshmukh    \n",
       "  umpire2       umpire3\n",
       "1 NJ Llong      NA     \n",
       "2 S Ravi        NA     \n",
       "3 CK Nandan     NA     \n",
       "4 C Shamshuddin NA     \n",
       "5               NA     \n",
       "6 NJ Llong      NA     "
      ]
     },
     "metadata": {},
     "output_type": "display_data"
    }
   ],
   "source": [
    "head(match)"
   ]
  },
  {
   "cell_type": "code",
   "execution_count": 13,
   "id": "1ec2f613",
   "metadata": {},
   "outputs": [],
   "source": [
    "# Some Tasks"
   ]
  },
  {
   "cell_type": "markdown",
   "id": "1446b72b",
   "metadata": {},
   "source": [
    "# Totalnumber of Matches Played so far(as per the dataset)"
   ]
  },
  {
   "cell_type": "code",
   "execution_count": 8,
   "id": "13b90ffa",
   "metadata": {},
   "outputs": [
    {
     "data": {
      "text/html": [
       "<table>\n",
       "<thead><tr><th scope=col>n</th></tr></thead>\n",
       "<tbody>\n",
       "\t<tr><td>636</td></tr>\n",
       "</tbody>\n",
       "</table>\n"
      ],
      "text/latex": [
       "\\begin{tabular}{r|l}\n",
       " n\\\\\n",
       "\\hline\n",
       "\t 636\\\\\n",
       "\\end{tabular}\n"
      ],
      "text/markdown": [
       "\n",
       "| n |\n",
       "|---|\n",
       "| 636 |\n",
       "\n"
      ],
      "text/plain": [
       "  n  \n",
       "1 636"
      ]
     },
     "metadata": {},
     "output_type": "display_data"
    }
   ],
   "source": [
    "count(match)"
   ]
  },
  {
   "cell_type": "code",
   "execution_count": 9,
   "id": "9ae201c4",
   "metadata": {},
   "outputs": [
    {
     "data": {
      "text/html": [
       "<table>\n",
       "<thead><tr><th scope=col>total_matches</th></tr></thead>\n",
       "<tbody>\n",
       "\t<tr><td>636</td></tr>\n",
       "</tbody>\n",
       "</table>\n"
      ],
      "text/latex": [
       "\\begin{tabular}{r|l}\n",
       " total\\_matches\\\\\n",
       "\\hline\n",
       "\t 636\\\\\n",
       "\\end{tabular}\n"
      ],
      "text/markdown": [
       "\n",
       "| total_matches |\n",
       "|---|\n",
       "| 636 |\n",
       "\n"
      ],
      "text/plain": [
       "  total_matches\n",
       "1 636          "
      ]
     },
     "metadata": {},
     "output_type": "display_data"
    }
   ],
   "source": [
    "match %>% summarize(total_matches = n())"
   ]
  },
  {
   "cell_type": "code",
   "execution_count": 14,
   "id": "9690455b",
   "metadata": {},
   "outputs": [],
   "source": [
    "# match %>% head() | head(match)"
   ]
  },
  {
   "cell_type": "markdown",
   "id": "f64c5f61",
   "metadata": {},
   "source": [
    "Type Markdown and LaTex:α2"
   ]
  },
  {
   "cell_type": "markdown",
   "id": "842fa8a9",
   "metadata": {},
   "source": [
    "Other Functions We can use Useful functions\n",
    "\n",
    "\n",
    " Center: mean(), median()\n",
    "\n",
    " Spread: sd(), IQR(), mad()\n",
    " \n",
    " Range: min(), max(), quantile()\n",
    " \n",
    " Position: first(), last(), nth()\n",
    "\n",
    " Count: n(), n_distinct()\n",
    "\n",
    " Logical: any(), all()\n",
    "\n",
    "\n",
    "Aesthetic mappings describe how variables in the data mapped to visual properties(aesthetics)of geoms. Aesthetic\n",
    "mappings can be set in ggplot() and in individual layers.\n",
    "\n",
    "aes(x,y,....)"
   ]
  },
  {
   "cell_type": "markdown",
   "id": "64e637d8",
   "metadata": {},
   "source": [
    "# Which team has won most number of Matches ?"
   ]
  },
  {
   "cell_type": "code",
   "execution_count": 17,
   "id": "9860cfea",
   "metadata": {},
   "outputs": [
    {
     "data": {
      "text/html": [
       "<table>\n",
       "<thead><tr><th scope=col>winner</th><th scope=col>wins</th></tr></thead>\n",
       "<tbody>\n",
       "\t<tr><td>Mumbai Indians</td><td>92            </td></tr>\n",
       "</tbody>\n",
       "</table>\n"
      ],
      "text/latex": [
       "\\begin{tabular}{r|ll}\n",
       " winner & wins\\\\\n",
       "\\hline\n",
       "\t Mumbai Indians & 92            \\\\\n",
       "\\end{tabular}\n"
      ],
      "text/markdown": [
       "\n",
       "| winner | wins |\n",
       "|---|---|\n",
       "| Mumbai Indians | 92             |\n",
       "\n"
      ],
      "text/plain": [
       "  winner         wins\n",
       "1 Mumbai Indians 92  "
      ]
     },
     "metadata": {},
     "output_type": "display_data"
    }
   ],
   "source": [
    "match %>% group_by(winner) %>% summarize(wins = n()) %>% filter(wins == max(wins))"
   ]
  },
  {
   "cell_type": "code",
   "execution_count": 18,
   "id": "928f37e8",
   "metadata": {},
   "outputs": [],
   "source": [
    "# Plot A Graph"
   ]
  },
  {
   "cell_type": "code",
   "execution_count": 23,
   "id": "505040bb",
   "metadata": {},
   "outputs": [
    {
     "data": {
      "image/png": "[encoded data removed]",
      "text/plain": [
       "plot without title"
      ]
     },
     "metadata": {},
     "output_type": "display_data"
    }
   ],
   "source": [
    "match%>%\n",
    " group_by(winner)%>%\n",
    " summarize(wins = n())%>%\n",
    "ggplot(aes(x = winner,y = wins,fill = winner))+\n",
    "geom_bar(stat = \"identity\")+\n",
    "  coord_flip()+\n",
    "  scale_y_continuous(\"Total Matches Won\")"
   ]
  },
  {
   "cell_type": "code",
   "execution_count": null,
   "id": "b1db8a60",
   "metadata": {},
   "outputs": [],
   "source": []
  }
 ],
 "metadata": {
  "kernelspec": {
   "display_name": "R",
   "language": "R",
   "name": "ir"
  },
  "language_info": {
   "codemirror_mode": "r",
   "file_extension": ".r",
   "mimetype": "text/x-r-source",
   "name": "R",
   "pygments_lexer": "r",
   "version": "3.6.1"
  }
 },
 "nbformat": 4,
 "nbformat_minor": 5
}
